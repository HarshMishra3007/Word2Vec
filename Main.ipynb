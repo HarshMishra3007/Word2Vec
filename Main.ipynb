{
 "cells": [
  {
   "cell_type": "code",
   "execution_count": 10,
   "id": "6818f0da",
   "metadata": {},
   "outputs": [
    {
     "name": "stderr",
     "output_type": "stream",
     "text": [
      "INFO:gensim.models.keyedvectors:loading projection weights from GoogleNews-vectors-negative300.bin\n",
      "INFO:gensim.utils:KeyedVectors lifecycle event {'msg': 'loaded (1000000, 300) matrix of type float32 from GoogleNews-vectors-negative300.bin', 'binary': True, 'encoding': 'utf8', 'datetime': '2023-11-09T14:11:19.866866', 'gensim': '4.1.2', 'python': '3.9.12 (main, Apr  4 2022, 05:22:27) [MSC v.1916 64 bit (AMD64)]', 'platform': 'Windows-10-10.0.22621-SP0', 'event': 'load_word2vec_format'}\n",
      "INFO:gensim.models.keyedvectors:storing 1000000x300 projection weights into vectors.csv\n"
     ]
    }
   ],
   "source": [
    "import gensim\n",
    "import numpy\n",
    "from gensim.models import KeyedVectors\n",
    "\n",
    "# Use your own path to save the file\n",
    "download_path = \"GoogleNews-vectors-negative300.bin\"\n",
    "\n",
    "# Load the vectors using Gensim\n",
    "word2vec_model = KeyedVectors.load_word2vec_format(download_path, binary=True, limit=1000000)\n",
    "\n",
    "# Save them as a flat file\n",
    "word2vec_model.save_word2vec_format('vectors.csv')"
   ]
  },
  {
   "cell_type": "code",
   "execution_count": 11,
   "id": "1af2732e",
   "metadata": {},
   "outputs": [
    {
     "name": "stdout",
     "output_type": "stream",
     "text": [
      "Requirement already satisfied: numpy in c:\\users\\dubeyakhil\\anaconda3\\lib\\site-packages (1.22.4)\n",
      "Note: you may need to restart the kernel to use updated packages.\n"
     ]
    }
   ],
   "source": [
    "pip install numpy"
   ]
  },
  {
   "cell_type": "code",
   "execution_count": 64,
   "id": "864baf08",
   "metadata": {},
   "outputs": [],
   "source": [
    "# from numpy import *\n",
    "import logging\n",
    "# Set up logging\n",
    "logging.basicConfig(level=logging.INFO)"
   ]
  },
  {
   "cell_type": "markdown",
   "id": "a72c3d56",
   "metadata": {},
   "source": [
    "# Word_embedder.py Code here"
   ]
  },
  {
   "cell_type": "code",
   "execution_count": 140,
   "id": "f88fadb5",
   "metadata": {},
   "outputs": [],
   "source": [
    "\n",
    "class WordEmbedder:\n",
    "    def __init__(self, word2vec_model):\n",
    "        self.word2vec_model = word2vec_model\n",
    "\n",
    "    def get_embedding(self, word):\n",
    "        return self.word2vec_model[word] if word in self.word2vec_model else 1\n"
   ]
  },
  {
   "cell_type": "markdown",
   "id": "785ab921",
   "metadata": {},
   "source": [
    "# Distance_calculator.py Code here"
   ]
  },
  {
   "cell_type": "code",
   "execution_count": 141,
   "id": "93d46a08",
   "metadata": {},
   "outputs": [],
   "source": [
    "\n",
    "class DistanceCalculator:\n",
    "    def calculate_distance(self, vector1, vector2):\n",
    "        # Use either L2 or Cosine distance calculation logic\n",
    "        return numpy.linalg.norm(vector1 - vector2)  # L2 distance"
   ]
  },
  {
   "cell_type": "markdown",
   "id": "255aa182",
   "metadata": {},
   "source": [
    "# phrase_similarity_calculator.py code here"
   ]
  },
  {
   "cell_type": "code",
   "execution_count": 153,
   "id": "004a87fd",
   "metadata": {},
   "outputs": [],
   "source": [
    "\n",
    "class PhraseSimilarityCalculator:\n",
    "    def __init__(self, word_embedder, distance_calculator):\n",
    "        self.word_embedder = word_embedder\n",
    "        self.distance_calculator = distance_calculator\n",
    "\n",
    "    def calculate_phrase_similarity(self, phrase1, phrase2):\n",
    "        embeddings1 = [self.word_embedder.get_embedding(word) for word in phrase1.split()]\n",
    "        embeddings2 = [self.word_embedder.get_embedding(word) for word in phrase2.split()]\n",
    "        \n",
    "        \n",
    "        \n",
    "        # Approximate phrase vectors by normalizing the sum of word embeddings\n",
    "        vector1 = numpy.sum(embeddings1, axis=0) / numpy.linalg.norm(numpy.sum(embeddings1, axis=0))\n",
    "        vector2 = numpy.sum(embeddings2, axis=0) / numpy.linalg.norm(numpy.sum(embeddings2, axis=0))\n",
    "\n",
    "\n",
    "        return self.distance_calculator.calculate_distance(vector1, vector2)\n",
    "    \n",
    "    # phrase_similarity_calculator.py (add the following function)\n",
    "    \n",
    "    def find_closest_match(self,user_input, phrases):\n",
    "        distances = [self.calculate_phrase_similarity(user_input, phrase) for phrase in phrases]\n",
    "#         print(distances)\n",
    "        min_distance = min(distances)\n",
    "        closest_match = phrases[distances.index(min_distance)]\n",
    "        return closest_match, min_distance\n",
    "        \n"
   ]
  },
  {
   "cell_type": "markdown",
   "id": "ec7b1741",
   "metadata": {},
   "source": [
    "# STEP 3: Batch Execution -> Main.py"
   ]
  },
  {
   "cell_type": "code",
   "execution_count": 154,
   "id": "eb7a2adf",
   "metadata": {},
   "outputs": [],
   "source": [
    "\n",
    "# from phrase_similarity_calculator import PhraseSimilarityCalculator\n",
    "\n",
    "# Set up logging, argument parsing, and handle configurations\n",
    "\n",
    "# Initialize components\n",
    "word_embedder = WordEmbedder(word2vec_model)\n",
    "distance_calculator = DistanceCalculator()\n",
    "phrase_similarity_calculator = PhraseSimilarityCalculator(word_embedder, distance_calculator)\n"
   ]
  },
  {
   "cell_type": "code",
   "execution_count": 155,
   "id": "dd5ac305",
   "metadata": {},
   "outputs": [
    {
     "name": "stdout",
     "output_type": "stream",
     "text": [
      "['Phrases', 'how company compares to its peers?', 'what is the detailed income statement breakdown of Axa?', 'world premium penetration in 2020', 'How does the forecasted insurance premium penetration in country trend compare to its peers?', 'what are the total losses for companies in country  non life market?', 'Insurance premiums market in Country', 'How have the profit margins been for the airlines industry through the years, by regions?', 'What is the complete profile of the top oil rigs?', 'what is company general information?', 'How is the airline industry performing globally?', 'how does economic profit for in country compare to others?', 'most profitable insurance company India', 'Give me a detailed breakup of the income and expenses in South-East Asia', 'Show me all the oil rigs in the world', 'What were the premiums earned by the Indian insurance industry in 2020?', 'How much have premiums grown as compared to claims for India?', 'Which are the best performing insurance firms in India?', 'What is the ROE of the Indian market?', 'What profits were clocked by Cholamandalam in 2020?', 'What is the premiums market share of the top 5 companies in India?', 'How will the Brazilian insurance market perform in case of a sluggish economic scenario?', 'Which are the main distribution channels in India?', 'What are the risks in the motor insurance segment in India?', 'What is the demand potential of India for insurance?', 'How do premiums break down by lines of business in India?', 'What is the share price of Qantas?', 'How many passengers are carried in ?', 'Which are the aircrafts manufactured by Boeing?', 'Kdo je nejv?tší konkurent ?eské Pojiš?ovny?', 'Which are the top airports?', 'How many fatal air accidents till date?', 'What is the flow of air traffic in North America?', 'What is the fleet of Airbus?', 'Airlines profitability Brazil?', 'Mergers among airline companies?', 'Which are the most profitable airports?', 'What has the capacity movement of airline companies been over the years?', 'Details of the Aban Abraham oil rig?', 'How big is the airlines industry in China?', \"How much money did Lloyd's of London make last year?\", \"What was the Calendar year COR versus the Accident year COR for Lloyd's?\", \"Which Lloyd's syndicates owns the maximum number of assets?\", 'List key performance indicators for AXA?', 'What are the most prominent legal cases?', 'How does oil industry perform in Brazil?', 'What is the main driver of growth in automobile industry in Europe?', 'Which country in Europe is going to grow the most in 2020?', 'What are the biggest acquisitions in 2020?', 'How impacted is the airline industry in 2020?', 'What are the most prominent bankruptcies in 2020?']\n"
     ]
    }
   ],
   "source": [
    "import csv\n",
    "\n",
    "\n",
    "# Specify the path to your CSV file\n",
    "csv_file_path = 'phrases.csv'\n",
    "\n",
    "# Read phrases from CSV\n",
    "def read_phrases_from_csv(csv_path):\n",
    "    phrases = []\n",
    "\n",
    "    try:\n",
    "        with open(csv_path, 'r') as file:\n",
    "            reader = csv.reader(file)\n",
    "            for row in reader:\n",
    "                # Assuming each row in the CSV file contains a single phrase\n",
    "                phrases.append(row[0])  # Adjust the index based on your CSV structure\n",
    "\n",
    "    except FileNotFoundError:\n",
    "        print(f\"Error: File not found - {csv_path}\")\n",
    "\n",
    "    return phrases\n",
    "\n",
    "# Call the function to read phrases\n",
    "phrases = read_phrases_from_csv(csv_file_path)\n",
    "\n",
    "# # # Print or use the phrases as needed\n",
    "print(phrases)\n"
   ]
  },
  {
   "cell_type": "code",
   "execution_count": 159,
   "id": "7cbeb6e7",
   "metadata": {},
   "outputs": [
    {
     "name": "stdout",
     "output_type": "stream",
     "text": [
      "Closest Match: Phrases\n",
      "Minimum Distance: 0.511639\n"
     ]
    }
   ],
   "source": [
    "\n",
    "user_input_phrase = \"Phrases s\"\n",
    "\n",
    "# Call the find_closest_match function\n",
    "closest_match, min_distance = phrase_similarity_calculator.find_closest_match(user_input_phrase, phrases)\n",
    "\n",
    "# Print or use the results\n",
    "print(\"Closest Match:\", closest_match)\n",
    "print(\"Minimum Distance:\", min_distance)\n"
   ]
  },
  {
   "cell_type": "code",
   "execution_count": null,
   "id": "c825997c",
   "metadata": {},
   "outputs": [],
   "source": []
  }
 ],
 "metadata": {
  "kernelspec": {
   "display_name": "Python 3 (ipykernel)",
   "language": "python",
   "name": "python3"
  },
  "language_info": {
   "codemirror_mode": {
    "name": "ipython",
    "version": 3
   },
   "file_extension": ".py",
   "mimetype": "text/x-python",
   "name": "python",
   "nbconvert_exporter": "python",
   "pygments_lexer": "ipython3",
   "version": "3.9.12"
  }
 },
 "nbformat": 4,
 "nbformat_minor": 5
}
